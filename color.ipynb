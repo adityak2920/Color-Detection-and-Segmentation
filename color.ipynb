{
 "cells": [
  {
   "cell_type": "code",
   "execution_count": null,
   "metadata": {},
   "outputs": [],
   "source": [
    "import cv2 as cv\n",
    "import numpy as np\n",
    "import time\n",
    "\n",
    "cap = cv.VideoCapture(\"/Users/adityakumar/Downloads/Input.mp4\")\n",
    "\n",
    "time.sleep(3)\n",
    "\n",
    "background = 0\n",
    "\n",
    "# Extracting background pixels\n",
    "for i in range(30):\n",
    "    ret, background = cap.read()\n",
    "\n",
    "out = cv.VideoWriter(\"output.avi\", cv.VideoWriter_fourcc(*\"MJPG\"), 10, (1280, 720))\n",
    "while(cap.isOpened()):\n",
    "\n",
    "    ret, img = cap.read()\n",
    "    if not ret:\n",
    "        break\n",
    "# Converting image from RGB color space to HSV color space\n",
    "    hsv = cv.cvtColor(img, cv.COLOR_BGR2HSV)\n",
    "# Extracting Red color cloth\n",
    "    lower_red = np.array([0,120,70])\n",
    "    upper_red = np.array([10,255,255])\n",
    "    mask1 = cv.inRange(hsv, lower_red, upper_red)\n",
    "\n",
    "    lower_red = np.array([170,120,70])\n",
    "    upper_red = np.array([180,255,255])\n",
    "    mask2 = cv.inRange(hsv, lower_red, upper_red)\n",
    "\n",
    "    mask1=mask1+mask2\n",
    "\n",
    "\n",
    "    mask1 = cv.morphologyEx(mask1, cv.MORPH_OPEN, np.ones((3, 3), np.uint8), iterations = 2)\n",
    "    mask1 = cv.dilate(mask1, np.ones((3, 3), np.uint8), iterations=2)\n",
    "\n",
    "# Segmenting the cloth out of the frame\n",
    "    mask2 = cv.bitwise_not(mask1)\n",
    "\n",
    "    res1 = cv.bitwise_and(img, img, mask=mask2)\n",
    "\n",
    "    res2 = cv.bitwise_and(background, background, mask = mask1)\n",
    "\n",
    "# Generating final output\n",
    "    final = cv.addWeighted(res1, 1, res2, 1, 0)\n",
    "\n",
    "    cv.imshow(\"boom\", final)\n",
    "\n",
    "\n",
    "    k = cv.waitKey(10)\n",
    "    if k == 27:\n",
    "        break\n"
   ]
  }
 ],
 "metadata": {
  "kernelspec": {
   "display_name": "Python 3",
   "language": "python",
   "name": "python3"
  },
  "language_info": {
   "codemirror_mode": {
    "name": "ipython",
    "version": 3
   },
   "file_extension": ".py",
   "mimetype": "text/x-python",
   "name": "python",
   "nbconvert_exporter": "python",
   "pygments_lexer": "ipython3",
   "version": "3.7.2"
  }
 },
 "nbformat": 4,
 "nbformat_minor": 2
}
